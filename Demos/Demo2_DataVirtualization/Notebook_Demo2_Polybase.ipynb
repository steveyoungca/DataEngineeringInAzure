{
    "metadata": {
        "kernelspec": {
            "name": "SQL",
            "display_name": "SQL",
            "language": "sql"
        },
        "language_info": {
            "name": "sql",
            "version": ""
        }
    },
    "nbformat_minor": 2,
    "nbformat": 4,
    "cells": [
        {
            "cell_type": "markdown",
            "source": [
                "# SQL Server 2019 Demo 2 - Data Virtualization - Using Polybase to query Azure SQL Database\r\n",
                "This notebook contains an example of how to use external tables to query data in Azure SQL Database **without moving data**. \r\n",
                "\r\n",
                "This notebook assumes you are using SQL Server 2019 and that the Polybase feature has been installed and enabled.\r\n",
                "\r\n",
                "## Step 1: Restore the Wide Importers datbase\r\n",
                "\r\n",
                "This notebook uses the sample WideWorldImporters sample database in SQL 2019.  The database can be downloaded at the GitHub repository [SQL Server Demos - World Wide Importers](https://github.com/Microsoft/sql-server-samples/releases/tag/wide-world-importers-v1.0)."
            ],
            "metadata": {
                "azdata_cell_guid": "8b314ee6-6d46-42e1-b876-e112e17ba91b"
            }
        },
        {
            "cell_type": "markdown",
            "source": [
                "## Step 2: Create a database in Azure SQL, table, and add data\r\n",
                "\r\n",
                "Create a database in Azure SQL called **AzureDemoDB**. Execute the following T-SQL to create a table and insert data into the database.\r\n",
                ""
            ],
            "metadata": {
                "azdata_cell_guid": "4e5f9aa4-ebd2-40bd-b3e3-2255a2b7954b"
            }
        },
        {
            "cell_type": "code",
            "source": [
                "DROP TABLE IF EXISTS [ModernStockItems]\r\n",
                "GO\r\n",
                "CREATE TABLE [ModernStockItems](\r\n",
                "\t[StockItemID] [int] NOT NULL,\r\n",
                "\t[StockItemName] [nvarchar](100) COLLATE Latin1_General_100_CI_AS NOT NULL,\r\n",
                "\t[SupplierID] [int] NOT NULL,\r\n",
                "\t[ColorID] [int] NULL,\r\n",
                "\t[UnitPackageID] [int] NOT NULL,\r\n",
                "\t[OuterPackageID] [int] NOT NULL,\r\n",
                "\t[Brand] [nvarchar](50) COLLATE Latin1_General_100_CI_AS NULL,\r\n",
                "\t[Size] [nvarchar](20) COLLATE Latin1_General_100_CI_AS NULL,\r\n",
                "\t[LeadTimeDays] [int] NOT NULL,\r\n",
                "\t[QuantityPerOuter] [int] NOT NULL,\r\n",
                "\t[IsChillerStock] [bit] NOT NULL,\r\n",
                "\t[Barcode] [nvarchar](50) COLLATE Latin1_General_100_CI_AS NULL,\r\n",
                "\t[TaxRate] [decimal](18, 3) NOT NULL,\r\n",
                "\t[UnitPrice] [decimal](18, 2) NOT NULL,\r\n",
                "\t[RecommendedRetailPrice] [decimal](18, 2) NULL,\r\n",
                "\t[TypicalWeightPerUnit] [decimal](18, 3) NOT NULL,\r\n",
                "\t[LastEditedBy] [int] NOT NULL,\r\n",
                "CONSTRAINT [PK_Warehouse_StockItems] PRIMARY KEY CLUSTERED \r\n",
                "(\r\n",
                "\t[StockItemID] ASC\r\n",
                ")\r\n",
                ")\r\n",
                "GO\r\n",
                "-- Now insert some data. We don't coordinate with unique keys in WWI on SQL Server\r\n",
                "-- so pick numbers way larger than exist in the current StockItems in WWI which is only 227\r\n",
                "INSERT INTO ModernStockItems VALUES\r\n",
                "(100000,\r\n",
                "'Dallas Cowboys Jersey',\r\n",
                "5,\r\n",
                "4, -- Blue\r\n",
                "4, -- Box\r\n",
                "4, -- Bob\r\n",
                "'Under Armour',\r\n",
                "'L',\r\n",
                "30,\r\n",
                "1,\r\n",
                "0,\r\n",
                "'123456789',\r\n",
                "2.0,\r\n",
                "50,\r\n",
                "75,\r\n",
                "2.0,\r\n",
                "1\r\n",
                ")\r\n",
                "GO"
            ],
            "metadata": {
                "azdata_cell_guid": "889862bc-7bb8-4fd1-b1cc-b0641b4d5683"
            },
            "outputs": [
                {
                    "output_type": "display_data",
                    "data": {
                        "text/html": "Commands completed successfully."
                    },
                    "metadata": {}
                },
                {
                    "output_type": "display_data",
                    "data": {
                        "text/html": "Commands completed successfully."
                    },
                    "metadata": {}
                },
                {
                    "output_type": "display_data",
                    "data": {
                        "text/html": "(1 row affected)"
                    },
                    "metadata": {}
                },
                {
                    "output_type": "display_data",
                    "data": {
                        "text/html": "Total execution time: 00:00:00.384"
                    },
                    "metadata": {}
                }
            ],
            "execution_count": 1
        },
        {
            "cell_type": "markdown",
            "source": [
                "# Step 3 Create a user to access the Azure SQL DB\r\n",
                "\r\n",
                "For ease of demo use, we will use a SQL Login.   The following commands need to be run against the master and the AzureSQLDB in order to create a new user."
            ],
            "metadata": {
                "azdata_cell_guid": "47e4e2c8-4e9a-47c0-91bf-c8e97760dd72"
            }
        },
        {
            "cell_type": "markdown",
            "source": [
                "For ease of use, Run this script SQL Server Management Studio as part of the setup.\r\n",
                ""
            ],
            "metadata": {
                "azdata_cell_guid": "3dd30e9b-cc7f-42cf-b639-b1a0df7b160c"
            }
        },
        {
            "cell_type": "code",
            "source": [
                "\r\n",
                "--Open a new query window connected to Master database (right-click on Master and click New Query) \r\n",
                "--and execute the following command:\r\n",
                "\r\n",
                "Use [Master]\r\n",
                "GO\r\n",
                "\r\n",
                "Create Login usgsloader with PASSWORD = '<Password!1234>'\r\n",
                "GO\r\n",
                "\r\n",
                "-- Open a new query window connected to Master database (right-click on Master and click New Query) \r\n",
                "-- and execute the following command:\r\n",
                "\r\n",
                "\r\n",
                "Use [AzureSQLDB]\r\n",
                "go\r\n",
                "Create user usgsloader from login usgsloader\r\n",
                "go\r\n",
                "EXEC sp_addrolemember 'db_owner', 'usgsloader';\r\n",
                "go"
            ],
            "metadata": {
                "azdata_cell_guid": "61a51832-6900-4fbc-abe0-2992ded012d2"
            },
            "outputs": [],
            "execution_count": 0
        },
        {
            "cell_type": "markdown",
            "source": [
                "## Step 4A: Create a master key in your SQL 2019 Instance\r\n",
                "\r\n",
                "Change your connection to your SQL 2019 Instance.\r\n",
                "\r\n",
                "Create a master key to encrypt the database credential"
            ],
            "metadata": {
                "azdata_cell_guid": "923721b5-3704-495c-b114-a79b78ccb64a"
            }
        },
        {
            "cell_type": "code",
            "source": [
                "-- Use [WideWorldImporters]\r\n",
                "\r\n",
                "CREATE MASTER KEY ENCRYPTION BY PASSWORD = '@Password1234!!'--'<password>'\r\n",
                "GO"
            ],
            "metadata": {
                "azdata_cell_guid": "f30a0aaf-45af-435e-864a-c1f80772ae23"
            },
            "outputs": [
                {
                    "output_type": "error",
                    "ename": "",
                    "evalue": "Msg 15578, Level 16, State 1, Line 3\r\nThere is already a master key in the database. Please drop it before performing this statement.",
                    "traceback": []
                },
                {
                    "output_type": "display_data",
                    "data": {
                        "text/html": "Total execution time: 00:00:00.067"
                    },
                    "metadata": {}
                }
            ],
            "execution_count": 4
        },
        {
            "cell_type": "markdown",
            "source": [
                "## Step 4B: Validate that Polybase is enabled.\r\n",
                "\r\n",
                "See the Referenced for the steps to enable Polybase in your SQL 2019 instance.  [SQL 2019 Polybase Enabled](https://docs.microsoft.com/en-us/sql/relational-databases/polybase/polybase-installation?view=sql-server-ver15)\r\n",
                "\r\n",
                "Run the following Script to validate that these are enabled.\r\n",
                "\r\n",
                "If using Azure Data Studio, you can change the Attach TO, in order to change the \r\n",
                ""
            ],
            "metadata": {
                "azdata_cell_guid": "869c087c-85e3-4754-b469-e5860f7887d6"
            }
        },
        {
            "cell_type": "code",
            "source": [
                "exec sp_configure @configname = 'polybase enabled', @configvalue = 1;\r\n",
                "RECONFIGURE;\r\n",
                "\r\n",
                "--Confirm Run the following command. If PolyBase is installed, the return is 1. Otherwise, it's 0.\r\n",
                "SELECT SERVERPROPERTY ('IsPolyBaseInstalled') AS IsPolyBaseInstalled;"
            ],
            "metadata": {
                "azdata_cell_guid": "2ea1b2c2-8d2a-45e9-a4f4-196e1a10872f",
                "tags": []
            },
            "outputs": [
                {
                    "output_type": "display_data",
                    "data": {
                        "text/html": "Configuration option 'polybase enabled' changed from 1 to 1. Run the RECONFIGURE statement to install."
                    },
                    "metadata": {}
                },
                {
                    "output_type": "display_data",
                    "data": {
                        "text/html": "(1 row affected)"
                    },
                    "metadata": {}
                },
                {
                    "output_type": "display_data",
                    "data": {
                        "text/html": "Total execution time: 00:00:00.050"
                    },
                    "metadata": {}
                },
                {
                    "output_type": "execute_result",
                    "execution_count": 6,
                    "data": {
                        "application/vnd.dataresource+json": {
                            "schema": {
                                "fields": [
                                    {
                                        "name": "IsPolyBaseInstalled"
                                    }
                                ]
                            },
                            "data": [
                                {
                                    "0": "1"
                                }
                            ]
                        },
                        "text/html": "<table><tr><th>IsPolyBaseInstalled</th></tr><tr><td>1</td></tr></table>"
                    },
                    "metadata": {}
                }
            ],
            "execution_count": 6
        },
        {
            "cell_type": "markdown",
            "source": [
                "## Step 5: Create a database credential.\r\n",
                "The database credential contains the IDENTITY (login) and SECRET (password) of the remote Azure SQL Database server or Managed Instance. Change this to the login and password for your server. [Configure PolyBase to access external data in SQL Server](https://docs.microsoft.com/en-us/sql/relational-databases/polybase/polybase-configure-sql-server?view=sql-server-ver15)\r\n",
                "\r\n",
                "This should already be completed by default, but run this command in the WideWorldImporters first.\r\n",
                "\r\n",
                "```\r\n",
                "USE [WideWorldImporters]\r\n",
                "GO\r\n",
                "CREATE MASTER KEY ENCRYPTION BY PASSWORD = 'Thisisa@password'\r\n",
                "GO\r\n",
                "```\r\n",
                "\r\n",
                "\r\n",
                "Format\r\n",
                "```\r\n",
                "CREATE DATABASE SCOPED CREDENTIAL AzureSQLDatabaseCredentials   \r\n",
                "WITH IDENTITY = '<login>', SECRET = '<password>'\r\n",
                "```"
            ],
            "metadata": {
                "azdata_cell_guid": "5a8fd354-291d-44a7-8fe7-e91768173eaf"
            }
        },
        {
            "cell_type": "code",
            "source": [
                "--Drop DATABASE SCOPED CREDENTIAL AzureSQLDatabaseCredentials2   \r\n",
                "\r\n",
                "\r\n",
                "CREATE DATABASE SCOPED CREDENTIAL AzureSQLDatabaseCredentials2   \r\n",
                "WITH IDENTITY = '<<user>>', SECRET = '<<ComplexPassword!1234>>'\r\n",
                "GO"
            ],
            "metadata": {
                "azdata_cell_guid": "9bb0ae94-941e-4df3-8257-59a7a417eb19",
                "tags": []
            },
            "outputs": [
                {
                    "output_type": "display_data",
                    "data": {
                        "text/html": "Commands completed successfully."
                    },
                    "metadata": {}
                },
                {
                    "output_type": "display_data",
                    "data": {
                        "text/html": "Commands completed successfully."
                    },
                    "metadata": {}
                },
                {
                    "output_type": "display_data",
                    "data": {
                        "text/html": "Total execution time: 00:00:00.016"
                    },
                    "metadata": {}
                }
            ],
            "execution_count": 19
        },
        {
            "cell_type": "markdown",
            "source": [
                "## Step 6: Create an EXTERNAL DATA SOURCE\r\n",
                "The EXTERNAL DATA SOURCE indicates what type of data source, the connection \"string\", where PUSHDOWN predicates should be used (if possible), and the name of the database credential.\r\n",
                "\r\n",
                "The LOCATION syntax is ``` datasourcetype:connection string ```\r\n",
                "\r\n",
                "datasourcetype can be sqlserver, oracle, teradata, mongodb, or odbc (Windows only)\r\n",
                "The connection string depends on the datasourcetype\r\n",
                "\r\n",
                "For this example, put in the name of the Azure SQL Server database server or Managed instance\r\n",
                "\r\n",
                "```\r\n",
                "CREATE EXTERNAL DATA SOURCE AzureSQLDatabase\r\n",
                "WITH ( \r\n",
                "LOCATION = 'sqlserver://<server name>.database.windows.net',\r\n",
                "PUSHDOWN = ON,\r\n",
                "CREDENTIAL = AzureSQLDatabaseCredentials\r\n",
                ")\r\n",
                "GO\r\n",
                "```"
            ],
            "metadata": {
                "azdata_cell_guid": "840f6734-c3f6-438d-a4e2-04d4865f479b"
            }
        },
        {
            "cell_type": "code",
            "source": [
                "CREATE EXTERNAL DATA SOURCE AzureSQLDatabaseDemo\r\n",
                "WITH ( \r\n",
                "LOCATION = 'sqlserver://seylabdb.database.windows.net',\r\n",
                "PUSHDOWN = ON,\r\n",
                "CREDENTIAL = AzureSQLDatabaseCredentials2\r\n",
                ")\r\n",
                "GO"
            ],
            "metadata": {
                "azdata_cell_guid": "de1a157b-bab1-450a-9c63-a48cbec702ae"
            },
            "outputs": [
                {
                    "output_type": "error",
                    "ename": "",
                    "evalue": "Msg 46721, Level 20, State 1, Line 1\r\nLogin failed. The login is from an untrusted domain and cannot be used with Integrated authentication.",
                    "traceback": []
                },
                {
                    "output_type": "display_data",
                    "data": {
                        "text/html": "Total execution time: 00:00:00.050"
                    },
                    "metadata": {}
                }
            ],
            "execution_count": 1
        },
        {
            "cell_type": "markdown",
            "source": [
                "## Step 7: Create a schema for the EXTERNAL TABLE\r\n",
                "Schemas provide convenient methods to secure and organize objects"
            ],
            "metadata": {
                "azdata_cell_guid": "86374cea-7543-4639-8372-12f4f968737a"
            }
        },
        {
            "cell_type": "code",
            "source": [
                "CREATE SCHEMA azuresqldb\r\n",
                "GO"
            ],
            "metadata": {
                "azdata_cell_guid": "ff77adad-1e5b-41d5-ae6d-8b676ad78aaf"
            },
            "outputs": [
                {
                    "output_type": "display_data",
                    "data": {
                        "text/html": "Commands completed successfully."
                    },
                    "metadata": {}
                },
                {
                    "output_type": "display_data",
                    "data": {
                        "text/html": "Total execution time: 00:00:00.004"
                    },
                    "metadata": {}
                }
            ],
            "execution_count": 5
        },
        {
            "cell_type": "markdown",
            "source": [
                "## Step 8: Create an EXTERNAL TABLE\r\n",
                "An external table provides metadata so SQL Server knows how to map columns to the remote table. The name of the table for the external table can be your choice. But the columns must be specified in the same order with the same name as they are defined in the remote table. Furthermore, local data types must be compatible with the remote table.\r\n",
                "\r\n",
                "** Note that there was an error running this from the Azure Data Studio Notebook, works from the SQL Script **\r\n",
                "\r\n",
                "\r\n",
                "The WITH clause specifies a LOCATION. This LOCATION is different than the EXTERNAL DATA SOURCE. This LOCATION indicates the [database].[schema].[table] of the remote table. The DATA_SOURCE clauses is the name of the EXTERNAL DATA SOURCE you created earlier."
            ],
            "metadata": {
                "azdata_cell_guid": "2ecf3468-3968-4f6c-b821-404b980519c7"
            }
        },
        {
            "cell_type": "code",
            "source": [
                "DROP EXTERNAL TABLE azuresqldb.ModernStockItems\r\n",
                "go \r\n",
                "CREATE EXTERNAL TABLE azuresqldb.ModernStockItems\r\n",
                "(\r\n",
                "\t[StockItemID] [int] NOT NULL,\r\n",
                "\t[StockItemName] [nvarchar](100) COLLATE Latin1_General_100_CI_AS NOT NULL,\r\n",
                "\t[SupplierID] [int] NOT NULL,\r\n",
                "\t[ColorID] [int] NULL,\r\n",
                "\t[UnitPackageID] [int] NOT NULL,\r\n",
                "\t[OuterPackageID] [int] NOT NULL,\r\n",
                "\t[Brand] [nvarchar](50) COLLATE Latin1_General_100_CI_AS NULL,\r\n",
                "\t[Size] [nvarchar](20) COLLATE Latin1_General_100_CI_AS NULL,\r\n",
                "\t[LeadTimeDays] [int] NOT NULL,\r\n",
                "\t[QuantityPerOuter] [int] NOT NULL,\r\n",
                "\t[IsChillerStock] [bit] NOT NULL,\r\n",
                "\t[Barcode] [nvarchar](50) COLLATE Latin1_General_100_CI_AS NULL,\r\n",
                "\t[TaxRate] [decimal](18, 3) NOT NULL,\r\n",
                "\t[UnitPrice] [decimal](18, 2) NOT NULL,\r\n",
                "\t[RecommendedRetailPrice] [decimal](18, 2) NULL,\r\n",
                "\t[TypicalWeightPerUnit] [decimal](18, 3) NOT NULL,\r\n",
                "\t[LastEditedBy] [int] NOT NULL\r\n",
                ")\r\n",
                " WITH (\r\n",
                " LOCATION='AzureDemoDB.dbo.ModernStockItems',\r\n",
                " DATA_SOURCE=AzureSQLDatabaseDemo\r\n",
                ")\r\n",
                "GO"
            ],
            "metadata": {
                "azdata_cell_guid": "12b7f01d-f2f7-42d5-a8ae-dce1606db22e"
            },
            "outputs": [
                {
                    "output_type": "error",
                    "ename": "",
                    "evalue": "Msg 15151, Level 16, State 1, Line 1\r\nCannot drop the EXTERNAL TABLE 'azuresqldb.ModernStockItems', because it does not exist or you do not have permission.",
                    "traceback": []
                },
                {
                    "output_type": "error",
                    "ename": "",
                    "evalue": "Msg 46721, Level 20, State 1, Line 3\r\nLogin failed. The login is from an untrusted domain and cannot be used with Integrated authentication.",
                    "traceback": []
                },
                {
                    "output_type": "display_data",
                    "data": {
                        "text/html": "Total execution time: 00:00:00.009"
                    },
                    "metadata": {}
                }
            ],
            "execution_count": 4
        },
        {
            "cell_type": "markdown",
            "source": [
                "## Step 9: Create statistics\r\n",
                "SQL Server allows you to store local statistics about specific columns from the remote table. This can help the query processing to make more efficient plan decisions."
            ],
            "metadata": {
                "azdata_cell_guid": "ab421237-3401-4161-a7bc-13ad9fc9a61c"
            }
        },
        {
            "cell_type": "code",
            "source": [
                "CREATE STATISTICS ModernStockItemsStats ON azuresqldb.ModernStockItems ([StockItemID]) WITH FULLSCAN\r\n",
                "GO"
            ],
            "metadata": {
                "azdata_cell_guid": "40e66d5a-11c7-4f07-8133-0562ec6c9b8f"
            },
            "outputs": [
                {
                    "output_type": "error",
                    "evalue": "Msg 46721, Level 20, State 1, Line 1\r\nLogin failed. The login is from an untrusted domain and cannot be used with Integrated authentication.",
                    "ename": "",
                    "traceback": []
                },
                {
                    "output_type": "display_data",
                    "data": {
                        "text/html": "Total execution time: 00:00:00.053"
                    },
                    "metadata": {}
                }
            ],
            "execution_count": 3
        },
        {
            "cell_type": "markdown",
            "source": [
                "## Step 10: Try to scan the remote table\r\n",
                "Run a simple query on the EXTERNAL TABLE to scan all rows."
            ],
            "metadata": {
                "azdata_cell_guid": "a89163d0-8c1b-489c-92be-1fbbdd11ba04"
            }
        },
        {
            "cell_type": "code",
            "source": [
                "SELECT * FROM azuresqldb.ModernStockItems\r\n",
                "GO"
            ],
            "metadata": {
                "azdata_cell_guid": "a33fb728-a55c-44ca-a29a-172f2b10f4af"
            },
            "outputs": [
                {
                    "output_type": "error",
                    "evalue": "Msg 208, Level 16, State 1, Line 1\r\nInvalid object name 'azuresqldb.ModernStockItems'.",
                    "ename": "",
                    "traceback": []
                },
                {
                    "output_type": "display_data",
                    "data": {
                        "text/html": "Total execution time: 00:00:00.001"
                    },
                    "metadata": {}
                }
            ],
            "execution_count": 1
        },
        {
            "cell_type": "markdown",
            "source": [
                "## Step 11: Query the remote table with a WHERE clause\r\n",
                "Even though the table may be small SQL Server will \"push\" the WHERE clause filter to the remote table"
            ],
            "metadata": {
                "azdata_cell_guid": "fb0a1cd1-5174-4121-add5-8cce683b1cce"
            }
        },
        {
            "cell_type": "code",
            "source": [
                "SELECT * FROM azuresqldb.ModernStockItems WHERE StockItemID = 100000\r\n",
                "GO"
            ],
            "metadata": {
                "azdata_cell_guid": "8e43af43-919f-48fa-b19c-90f56d37a6c7",
                "tags": [
                    "hide_input"
                ]
            },
            "outputs": [
                {
                    "output_type": "display_data",
                    "data": {
                        "text/html": "(1 row affected)"
                    },
                    "metadata": {}
                },
                {
                    "output_type": "display_data",
                    "data": {
                        "text/html": "Total execution time: 00:00:01.612"
                    },
                    "metadata": {}
                },
                {
                    "output_type": "execute_result",
                    "execution_count": 9,
                    "data": {
                        "application/vnd.dataresource+json": {
                            "schema": {
                                "fields": [
                                    {
                                        "name": "StockItemID"
                                    },
                                    {
                                        "name": "StockItemName"
                                    },
                                    {
                                        "name": "SupplierID"
                                    },
                                    {
                                        "name": "ColorID"
                                    },
                                    {
                                        "name": "UnitPackageID"
                                    },
                                    {
                                        "name": "OuterPackageID"
                                    },
                                    {
                                        "name": "Brand"
                                    },
                                    {
                                        "name": "Size"
                                    },
                                    {
                                        "name": "LeadTimeDays"
                                    },
                                    {
                                        "name": "QuantityPerOuter"
                                    },
                                    {
                                        "name": "IsChillerStock"
                                    },
                                    {
                                        "name": "Barcode"
                                    },
                                    {
                                        "name": "TaxRate"
                                    },
                                    {
                                        "name": "UnitPrice"
                                    },
                                    {
                                        "name": "RecommendedRetailPrice"
                                    },
                                    {
                                        "name": "TypicalWeightPerUnit"
                                    },
                                    {
                                        "name": "LastEditedBy"
                                    }
                                ]
                            },
                            "data": [
                                {
                                    "0": "100000",
                                    "1": "Dallas Cowboys Jersey",
                                    "2": "5",
                                    "3": "4",
                                    "4": "4",
                                    "5": "4",
                                    "6": "Under Armour",
                                    "7": "L",
                                    "8": "30",
                                    "9": "1",
                                    "10": "0",
                                    "11": "123456789",
                                    "12": "2.000",
                                    "13": "50.00",
                                    "14": "75.00",
                                    "15": "2.000",
                                    "16": "1"
                                }
                            ]
                        },
                        "text/html": "<table><tr><th>StockItemID</th><th>StockItemName</th><th>SupplierID</th><th>ColorID</th><th>UnitPackageID</th><th>OuterPackageID</th><th>Brand</th><th>Size</th><th>LeadTimeDays</th><th>QuantityPerOuter</th><th>IsChillerStock</th><th>Barcode</th><th>TaxRate</th><th>UnitPrice</th><th>RecommendedRetailPrice</th><th>TypicalWeightPerUnit</th><th>LastEditedBy</th></tr><tr><td>100000</td><td>Dallas Cowboys Jersey</td><td>5</td><td>4</td><td>4</td><td>4</td><td>Under Armour</td><td>L</td><td>30</td><td>1</td><td>0</td><td>123456789</td><td>2.000</td><td>50.00</td><td>75.00</td><td>2.000</td><td>1</td></tr></table>"
                    },
                    "metadata": {}
                }
            ],
            "execution_count": 9
        },
        {
            "cell_type": "markdown",
            "source": [
                "## Step 12: Join with local SQL Server tables\r\n",
                "Use a UNION to find all stockitems for a specific supplier both locally and in the Azure table"
            ],
            "metadata": {
                "azdata_cell_guid": "37b4ca4c-bf15-459d-8cee-35a7669ac0d0"
            }
        },
        {
            "cell_type": "code",
            "source": [
                "SELECT msi.StockItemName, msi.Brand, c.ColorName\r\n",
                "FROM azuresqldb.ModernStockItems msi\r\n",
                "JOIN [Purchasing].[Suppliers] s\r\n",
                "ON msi.SupplierID = s.SupplierID\r\n",
                "and s.SupplierName = 'Graphic Design Institute'\r\n",
                "JOIN [Warehouse].[Colors] c\r\n",
                "ON msi.ColorID = c.ColorID\r\n",
                "UNION\r\n",
                "SELECT si.StockItemName, si.Brand, c.ColorName\r\n",
                "FROM [Warehouse].[StockItems] si\r\n",
                "JOIN [Purchasing].[Suppliers] s\r\n",
                "ON si.SupplierID = s.SupplierID\r\n",
                "and s.SupplierName = 'Graphic Design Institute'\r\n",
                "JOIN [Warehouse].[Colors] c\r\n",
                "ON si.ColorID = c.ColorID\r\n",
                "GO"
            ],
            "metadata": {
                "azdata_cell_guid": "f6eae75f-55c1-45b3-8c6e-04b853c652c0"
            },
            "outputs": [
                {
                    "output_type": "display_data",
                    "data": {
                        "text/html": "(43 rows affected)"
                    },
                    "metadata": {}
                },
                {
                    "output_type": "display_data",
                    "data": {
                        "text/html": "Total execution time: 00:00:00.306"
                    },
                    "metadata": {}
                },
                {
                    "output_type": "execute_result",
                    "execution_count": 10,
                    "data": {
                        "application/vnd.dataresource+json": {
                            "schema": {
                                "fields": [
                                    {
                                        "name": "StockItemName"
                                    },
                                    {
                                        "name": "Brand"
                                    },
                                    {
                                        "name": "ColorName"
                                    }
                                ]
                            },
                            "data": [
                                {
                                    "0": "Dallas Cowboys Jersey",
                                    "1": "Under Armour",
                                    "2": "Blue"
                                },
                                {
                                    "0": "DBA joke mug - daaaaaa-ta (Black)",
                                    "1": "NULL",
                                    "2": "Black"
                                },
                                {
                                    "0": "DBA joke mug - daaaaaa-ta (White)",
                                    "1": "NULL",
                                    "2": "White"
                                },
                                {
                                    "0": "DBA joke mug - I will get you in order (Black)",
                                    "1": "NULL",
                                    "2": "Black"
                                },
                                {
                                    "0": "DBA joke mug - I will get you in order (White)",
                                    "1": "NULL",
                                    "2": "White"
                                },
                                {
                                    "0": "DBA joke mug - it depends (Black)",
                                    "1": "NULL",
                                    "2": "Black"
                                },
                                {
                                    "0": "DBA joke mug - it depends (White)",
                                    "1": "NULL",
                                    "2": "White"
                                },
                                {
                                    "0": "DBA joke mug - mind if I join you? (Black)",
                                    "1": "NULL",
                                    "2": "Black"
                                },
                                {
                                    "0": "DBA joke mug - mind if I join you? (White)",
                                    "1": "NULL",
                                    "2": "White"
                                },
                                {
                                    "0": "DBA joke mug - SELECT caffeine FROM mug (Black)",
                                    "1": "NULL",
                                    "2": "Black"
                                },
                                {
                                    "0": "DBA joke mug - SELECT caffeine FROM mug (White)",
                                    "1": "NULL",
                                    "2": "White"
                                },
                                {
                                    "0": "DBA joke mug - two types of DBAs (Black)",
                                    "1": "NULL",
                                    "2": "Black"
                                },
                                {
                                    "0": "DBA joke mug - two types of DBAs (White)",
                                    "1": "NULL",
                                    "2": "White"
                                },
                                {
                                    "0": "DBA joke mug - you might be a DBA if (Black)",
                                    "1": "NULL",
                                    "2": "Black"
                                },
                                {
                                    "0": "DBA joke mug - you might be a DBA if (White)",
                                    "1": "NULL",
                                    "2": "White"
                                },
                                {
                                    "0": "Developer joke mug - (hip, hip, array) (Black)",
                                    "1": "NULL",
                                    "2": "Black"
                                },
                                {
                                    "0": "Developer joke mug - (hip, hip, array) (White)",
                                    "1": "NULL",
                                    "2": "White"
                                },
                                {
                                    "0": "Developer joke mug - a foo walks into a bar (Black)",
                                    "1": "NULL",
                                    "2": "Black"
                                },
                                {
                                    "0": "Developer joke mug - a foo walks into a bar (White)",
                                    "1": "NULL",
                                    "2": "White"
                                },
                                {
                                    "0": "Developer joke mug - fun was unexpected at this time (Black)",
                                    "1": "NULL",
                                    "2": "Black"
                                },
                                {
                                    "0": "Developer joke mug - fun was unexpected at this time (White)",
                                    "1": "NULL",
                                    "2": "White"
                                },
                                {
                                    "0": "Developer joke mug - inheritance is the OO way to become wealthy (Black)",
                                    "1": "NULL",
                                    "2": "Black"
                                },
                                {
                                    "0": "Developer joke mug - inheritance is the OO way to become wealthy (White)",
                                    "1": "NULL",
                                    "2": "White"
                                },
                                {
                                    "0": "Developer joke mug - Oct 31 = Dec 25 (Black)",
                                    "1": "NULL",
                                    "2": "Black"
                                },
                                {
                                    "0": "Developer joke mug - Oct 31 = Dec 25 (White)",
                                    "1": "NULL",
                                    "2": "White"
                                },
                                {
                                    "0": "Developer joke mug - old C developers never die (Black)",
                                    "1": "NULL",
                                    "2": "Black"
                                },
                                {
                                    "0": "Developer joke mug - old C developers never die (White)",
                                    "1": "NULL",
                                    "2": "White"
                                },
                                {
                                    "0": "Developer joke mug - that's a hardware problem (Black)",
                                    "1": "NULL",
                                    "2": "Black"
                                },
                                {
                                    "0": "Developer joke mug - that's a hardware problem (White)",
                                    "1": "NULL",
                                    "2": "White"
                                },
                                {
                                    "0": "Developer joke mug - there are 10 types of people in the world (Black)",
                                    "1": "NULL",
                                    "2": "Black"
                                },
                                {
                                    "0": "Developer joke mug - there are 10 types of people in the world (White)",
                                    "1": "NULL",
                                    "2": "White"
                                },
                                {
                                    "0": "Developer joke mug - this code was generated by a tool (Black)",
                                    "1": "NULL",
                                    "2": "Black"
                                },
                                {
                                    "0": "Developer joke mug - this code was generated by a tool (White)",
                                    "1": "NULL",
                                    "2": "White"
                                },
                                {
                                    "0": "Developer joke mug - understanding recursion requires understanding recursion (Black)",
                                    "1": "NULL",
                                    "2": "Black"
                                },
                                {
                                    "0": "Developer joke mug - understanding recursion requires understanding recursion (White)",
                                    "1": "NULL",
                                    "2": "White"
                                },
                                {
                                    "0": "Developer joke mug - when your hammer is C++ (Black)",
                                    "1": "NULL",
                                    "2": "Black"
                                },
                                {
                                    "0": "Developer joke mug - when your hammer is C++ (White)",
                                    "1": "NULL",
                                    "2": "White"
                                },
                                {
                                    "0": "IT joke mug - hardware: part of the computer that can be kicked (Black)",
                                    "1": "NULL",
                                    "2": "Black"
                                },
                                {
                                    "0": "IT joke mug - hardware: part of the computer that can be kicked (White)",
                                    "1": "NULL",
                                    "2": "White"
                                },
                                {
                                    "0": "IT joke mug - keyboard not found … press F1 to continue (Black)",
                                    "1": "NULL",
                                    "2": "Black"
                                },
                                {
                                    "0": "IT joke mug - keyboard not found … press F1 to continue (White)",
                                    "1": "NULL",
                                    "2": "White"
                                },
                                {
                                    "0": "IT joke mug - that behavior is by design (Black)",
                                    "1": "NULL",
                                    "2": "Black"
                                },
                                {
                                    "0": "IT joke mug - that behavior is by design (White)",
                                    "1": "NULL",
                                    "2": "White"
                                }
                            ]
                        },
                        "text/html": "<table><tr><th>StockItemName</th><th>Brand</th><th>ColorName</th></tr><tr><td>Dallas Cowboys Jersey</td><td>Under Armour</td><td>Blue</td></tr><tr><td>DBA joke mug - daaaaaa-ta (Black)</td><td>NULL</td><td>Black</td></tr><tr><td>DBA joke mug - daaaaaa-ta (White)</td><td>NULL</td><td>White</td></tr><tr><td>DBA joke mug - I will get you in order (Black)</td><td>NULL</td><td>Black</td></tr><tr><td>DBA joke mug - I will get you in order (White)</td><td>NULL</td><td>White</td></tr><tr><td>DBA joke mug - it depends (Black)</td><td>NULL</td><td>Black</td></tr><tr><td>DBA joke mug - it depends (White)</td><td>NULL</td><td>White</td></tr><tr><td>DBA joke mug - mind if I join you? (Black)</td><td>NULL</td><td>Black</td></tr><tr><td>DBA joke mug - mind if I join you? (White)</td><td>NULL</td><td>White</td></tr><tr><td>DBA joke mug - SELECT caffeine FROM mug (Black)</td><td>NULL</td><td>Black</td></tr><tr><td>DBA joke mug - SELECT caffeine FROM mug (White)</td><td>NULL</td><td>White</td></tr><tr><td>DBA joke mug - two types of DBAs (Black)</td><td>NULL</td><td>Black</td></tr><tr><td>DBA joke mug - two types of DBAs (White)</td><td>NULL</td><td>White</td></tr><tr><td>DBA joke mug - you might be a DBA if (Black)</td><td>NULL</td><td>Black</td></tr><tr><td>DBA joke mug - you might be a DBA if (White)</td><td>NULL</td><td>White</td></tr><tr><td>Developer joke mug - (hip, hip, array) (Black)</td><td>NULL</td><td>Black</td></tr><tr><td>Developer joke mug - (hip, hip, array) (White)</td><td>NULL</td><td>White</td></tr><tr><td>Developer joke mug - a foo walks into a bar (Black)</td><td>NULL</td><td>Black</td></tr><tr><td>Developer joke mug - a foo walks into a bar (White)</td><td>NULL</td><td>White</td></tr><tr><td>Developer joke mug - fun was unexpected at this time (Black)</td><td>NULL</td><td>Black</td></tr><tr><td>Developer joke mug - fun was unexpected at this time (White)</td><td>NULL</td><td>White</td></tr><tr><td>Developer joke mug - inheritance is the OO way to become wealthy (Black)</td><td>NULL</td><td>Black</td></tr><tr><td>Developer joke mug - inheritance is the OO way to become wealthy (White)</td><td>NULL</td><td>White</td></tr><tr><td>Developer joke mug - Oct 31 = Dec 25 (Black)</td><td>NULL</td><td>Black</td></tr><tr><td>Developer joke mug - Oct 31 = Dec 25 (White)</td><td>NULL</td><td>White</td></tr><tr><td>Developer joke mug - old C developers never die (Black)</td><td>NULL</td><td>Black</td></tr><tr><td>Developer joke mug - old C developers never die (White)</td><td>NULL</td><td>White</td></tr><tr><td>Developer joke mug - that's a hardware problem (Black)</td><td>NULL</td><td>Black</td></tr><tr><td>Developer joke mug - that's a hardware problem (White)</td><td>NULL</td><td>White</td></tr><tr><td>Developer joke mug - there are 10 types of people in the world (Black)</td><td>NULL</td><td>Black</td></tr><tr><td>Developer joke mug - there are 10 types of people in the world (White)</td><td>NULL</td><td>White</td></tr><tr><td>Developer joke mug - this code was generated by a tool (Black)</td><td>NULL</td><td>Black</td></tr><tr><td>Developer joke mug - this code was generated by a tool (White)</td><td>NULL</td><td>White</td></tr><tr><td>Developer joke mug - understanding recursion requires understanding recursion (Black)</td><td>NULL</td><td>Black</td></tr><tr><td>Developer joke mug - understanding recursion requires understanding recursion (White)</td><td>NULL</td><td>White</td></tr><tr><td>Developer joke mug - when your hammer is C++ (Black)</td><td>NULL</td><td>Black</td></tr><tr><td>Developer joke mug - when your hammer is C++ (White)</td><td>NULL</td><td>White</td></tr><tr><td>IT joke mug - hardware: part of the computer that can be kicked (Black)</td><td>NULL</td><td>Black</td></tr><tr><td>IT joke mug - hardware: part of the computer that can be kicked (White)</td><td>NULL</td><td>White</td></tr><tr><td>IT joke mug - keyboard not found … press F1 to continue (Black)</td><td>NULL</td><td>Black</td></tr><tr><td>IT joke mug - keyboard not found … press F1 to continue (White)</td><td>NULL</td><td>White</td></tr><tr><td>IT joke mug - that behavior is by design (Black)</td><td>NULL</td><td>Black</td></tr><tr><td>IT joke mug - that behavior is by design (White)</td><td>NULL</td><td>White</td></tr></table>"
                    },
                    "metadata": {}
                }
            ],
            "execution_count": 10
        },
        {
            "cell_type": "markdown",
            "source": [
                "# References (Need to update)\r\n",
                "\r\n",
                "\r\n",
                "[Configure PolyBase to access external data in Azure Blob Storage](https://docs.microsoft.com/en-us/sql/relational-databases/polybase/polybase-configure-azure-blob-storage?view=sql-server-ver15)\r\n",
                "\r\n",
                "[SQL 2019 Polybase Enable](https://docs.microsoft.com/en-us/sql/relational-databases/polybase/polybase-installation?view=sql-server-ver15)"
            ],
            "metadata": {
                "azdata_cell_guid": "b17af06f-76d8-4480-b52a-b8dd2f9540af"
            }
        },
        {
            "cell_type": "markdown",
            "source": [
                ""
            ],
            "metadata": {
                "azdata_cell_guid": "13e7dc57-f082-42b0-8c11-b14466b75e6f"
            }
        }
    ]
}