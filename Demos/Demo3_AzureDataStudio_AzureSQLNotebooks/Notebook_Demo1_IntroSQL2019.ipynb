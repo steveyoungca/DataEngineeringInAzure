{
    "metadata": {
        "kernelspec": {
            "name": "SQL",
            "display_name": "SQL",
            "language": "sql"
        },
        "language_info": {
            "name": "sql",
            "version": ""
        }
    },
    "nbformat_minor": 2,
    "nbformat": 4,
    "cells": [
        {
            "cell_type": "markdown",
            "source": [
                "# Introduction To Azure Data Studio Notebooks\r\n",
                "## Step 1 - Run a Simple Query\r\n",
                "\r\n",
                "User SQL VM 2019 with WorldWideImporters.\r\n",
                "\r\n",
                "Given that this is markdown, you have alot of control as to the formatting.  In looking at the following [Markdown Reference](https://guides.github.com/features/mastering-markdown/) you can get an introduciton to the GitHub flavor of Markdown.  The really interesting thing I <**noteced**> when I first went through the Azure Data Studio functionality is the WYSIWYG preview as your add text.  Not alot of Markdown editors do that.  Once we finish we will save back to github."
            ],
            "metadata": {
                "azdata_cell_guid": "8531d2cd-7067-430c-b910-527199ee3d61",
                "tags": []
            }
        },
        {
            "cell_type": "markdown",
            "source": [
                "### Run some code.\r\n",
                "The connetect at the top shows what DB your are attached to.  Lets run the following query to see what tables are in the database. in the sales schema."
            ],
            "metadata": {
                "azdata_cell_guid": "d85198e4-e1f8-4461-a1de-e448de414394",
                "tags": []
            }
        },
        {
            "cell_type": "markdown",
            "source": [
                "## Intellisense\r\n",
                "\r\n",
                "Select * from sales.BuyingGroups\r\n",
                ""
            ],
            "metadata": {
                "azdata_cell_guid": "2f9d18d3-2882-49d5-947e-aa65a9c9e8d9"
            }
        },
        {
            "cell_type": "code",
            "source": [
                "Select *  "
            ],
            "metadata": {
                "azdata_cell_guid": "8f8e9370-6fdd-46be-b149-2e80f2591a96"
            },
            "outputs": [],
            "execution_count": 0
        },
        {
            "cell_type": "code",
            "source": [
                "select schema_name(schema_id) as schema_name,\r\n",
                "       [name] as table_name, [create_date] as date_created, [modify_date] as date_modified\r\n",
                "from sys.tables \r\n",
                "where schema_name(schema_id) = 'sales'  \r\n",
                "order by table_name;"
            ],
            "metadata": {
                "azdata_cell_guid": "99d6819f-2a59-42e6-8c13-4650fbfb4803",
                "tags": []
            },
            "outputs": [
                {
                    "output_type": "display_data",
                    "data": {
                        "text/html": "(12 rows affected)"
                    },
                    "metadata": {}
                },
                {
                    "output_type": "display_data",
                    "data": {
                        "text/html": "Total execution time: 00:00:00.008"
                    },
                    "metadata": {}
                },
                {
                    "output_type": "execute_result",
                    "execution_count": 3,
                    "data": {
                        "application/vnd.dataresource+json": {
                            "schema": {
                                "fields": [
                                    {
                                        "name": "schema_name"
                                    },
                                    {
                                        "name": "table_name"
                                    },
                                    {
                                        "name": "date_created"
                                    },
                                    {
                                        "name": "date_modified"
                                    }
                                ]
                            },
                            "data": [
                                {
                                    "0": "Sales",
                                    "1": "BuyingGroups",
                                    "2": "2016-06-02 10:04:03.263",
                                    "3": "2016-06-02 10:50:09.773"
                                },
                                {
                                    "0": "Sales",
                                    "1": "BuyingGroups_Archive",
                                    "2": "2016-06-02 10:04:03.267",
                                    "3": "2016-06-06 11:06:36.787"
                                },
                                {
                                    "0": "Sales",
                                    "1": "CustomerCategories",
                                    "2": "2016-06-02 10:04:03.270",
                                    "3": "2016-06-02 10:50:09.777"
                                },
                                {
                                    "0": "Sales",
                                    "1": "CustomerCategories_Archive",
                                    "2": "2016-06-02 10:04:03.273",
                                    "3": "2016-06-06 11:06:36.790"
                                },
                                {
                                    "0": "Sales",
                                    "1": "Customers",
                                    "2": "2016-06-02 10:04:03.387",
                                    "3": "2016-06-02 10:50:16.953"
                                },
                                {
                                    "0": "Sales",
                                    "1": "Customers_Archive",
                                    "2": "2016-06-02 10:04:03.390",
                                    "3": "2016-06-06 11:06:34.773"
                                },
                                {
                                    "0": "Sales",
                                    "1": "CustomerTransactions",
                                    "2": "2016-06-02 10:04:03.607",
                                    "3": "2016-06-06 11:07:00.153"
                                },
                                {
                                    "0": "Sales",
                                    "1": "InvoiceLines",
                                    "2": "2016-06-02 10:04:03.627",
                                    "3": "2016-06-06 11:06:39.317"
                                },
                                {
                                    "0": "Sales",
                                    "1": "Invoices",
                                    "2": "2016-06-02 10:04:03.540",
                                    "3": "2016-06-02 10:04:03.643"
                                },
                                {
                                    "0": "Sales",
                                    "1": "OrderLines",
                                    "2": "2016-06-02 10:04:03.573",
                                    "3": "2016-06-06 11:06:37.913"
                                },
                                {
                                    "0": "Sales",
                                    "1": "Orders",
                                    "2": "2016-06-02 10:04:03.433",
                                    "3": "2016-06-02 10:04:03.573"
                                },
                                {
                                    "0": "Sales",
                                    "1": "SpecialDeals",
                                    "2": "2016-06-02 10:04:03.513",
                                    "3": "2016-06-02 10:04:03.540"
                                }
                            ]
                        },
                        "text/html": "<table><tr><th>schema_name</th><th>table_name</th><th>date_created</th><th>date_modified</th></tr><tr><td>Sales</td><td>BuyingGroups</td><td>2016-06-02 10:04:03.263</td><td>2016-06-02 10:50:09.773</td></tr><tr><td>Sales</td><td>BuyingGroups_Archive</td><td>2016-06-02 10:04:03.267</td><td>2016-06-06 11:06:36.787</td></tr><tr><td>Sales</td><td>CustomerCategories</td><td>2016-06-02 10:04:03.270</td><td>2016-06-02 10:50:09.777</td></tr><tr><td>Sales</td><td>CustomerCategories_Archive</td><td>2016-06-02 10:04:03.273</td><td>2016-06-06 11:06:36.790</td></tr><tr><td>Sales</td><td>Customers</td><td>2016-06-02 10:04:03.387</td><td>2016-06-02 10:50:16.953</td></tr><tr><td>Sales</td><td>Customers_Archive</td><td>2016-06-02 10:04:03.390</td><td>2016-06-06 11:06:34.773</td></tr><tr><td>Sales</td><td>CustomerTransactions</td><td>2016-06-02 10:04:03.607</td><td>2016-06-06 11:07:00.153</td></tr><tr><td>Sales</td><td>InvoiceLines</td><td>2016-06-02 10:04:03.627</td><td>2016-06-06 11:06:39.317</td></tr><tr><td>Sales</td><td>Invoices</td><td>2016-06-02 10:04:03.540</td><td>2016-06-02 10:04:03.643</td></tr><tr><td>Sales</td><td>OrderLines</td><td>2016-06-02 10:04:03.573</td><td>2016-06-06 11:06:37.913</td></tr><tr><td>Sales</td><td>Orders</td><td>2016-06-02 10:04:03.433</td><td>2016-06-02 10:04:03.573</td></tr><tr><td>Sales</td><td>SpecialDeals</td><td>2016-06-02 10:04:03.513</td><td>2016-06-02 10:04:03.540</td></tr></table>"
                    },
                    "metadata": {}
                }
            ],
            "execution_count": 3
        },
        {
            "cell_type": "markdown",
            "source": [
                "What you can do is save the Notebook and the results will save with it.  You.\r\n",
                "•\tgetting help on an error\r\n",
                "•\tQA results\r\n",
                "•\tAudit results, etc.  pass a query to someone that does not have access.  (Could be an issue, but you have that issue now)\r\n",
                ""
            ],
            "metadata": {
                "azdata_cell_guid": "1e8e4210-24a7-46c9-8aa6-8ea7fb8d8708",
                "tags": []
            }
        },
        {
            "cell_type": "code",
            "source": [
                "select schema_name(schema_id) as schema_name,\r\n",
                "       [name] as table_name, [create_date] as date_created, [modify_date] as date_modified\r\n",
                "from sys.tables \r\n",
                "where schema_name(schema_id) = 'sales'  \r\n",
                "order by table_name;"
            ],
            "metadata": {
                "azdata_cell_guid": "17d861b3-3a05-478e-89f0-1a02ec46f9b8",
                "tags": []
            },
            "outputs": [
                {
                    "output_type": "display_data",
                    "data": {
                        "text/html": "(12 rows affected)"
                    },
                    "metadata": {}
                },
                {
                    "output_type": "display_data",
                    "data": {
                        "text/html": "Total execution time: 00:00:00.009"
                    },
                    "metadata": {}
                },
                {
                    "output_type": "execute_result",
                    "execution_count": 4,
                    "data": {
                        "application/vnd.dataresource+json": {
                            "schema": {
                                "fields": [
                                    {
                                        "name": "schema_name"
                                    },
                                    {
                                        "name": "table_name"
                                    },
                                    {
                                        "name": "date_created"
                                    },
                                    {
                                        "name": "date_modified"
                                    }
                                ]
                            },
                            "data": [
                                {
                                    "0": "Sales",
                                    "1": "BuyingGroups",
                                    "2": "2016-06-02 10:04:03.263",
                                    "3": "2016-06-02 10:50:09.773"
                                },
                                {
                                    "0": "Sales",
                                    "1": "BuyingGroups_Archive",
                                    "2": "2016-06-02 10:04:03.267",
                                    "3": "2016-06-06 11:06:36.787"
                                },
                                {
                                    "0": "Sales",
                                    "1": "CustomerCategories",
                                    "2": "2016-06-02 10:04:03.270",
                                    "3": "2016-06-02 10:50:09.777"
                                },
                                {
                                    "0": "Sales",
                                    "1": "CustomerCategories_Archive",
                                    "2": "2016-06-02 10:04:03.273",
                                    "3": "2016-06-06 11:06:36.790"
                                },
                                {
                                    "0": "Sales",
                                    "1": "Customers",
                                    "2": "2016-06-02 10:04:03.387",
                                    "3": "2016-06-02 10:50:16.953"
                                },
                                {
                                    "0": "Sales",
                                    "1": "Customers_Archive",
                                    "2": "2016-06-02 10:04:03.390",
                                    "3": "2016-06-06 11:06:34.773"
                                },
                                {
                                    "0": "Sales",
                                    "1": "CustomerTransactions",
                                    "2": "2016-06-02 10:04:03.607",
                                    "3": "2016-06-06 11:07:00.153"
                                },
                                {
                                    "0": "Sales",
                                    "1": "InvoiceLines",
                                    "2": "2016-06-02 10:04:03.627",
                                    "3": "2016-06-06 11:06:39.317"
                                },
                                {
                                    "0": "Sales",
                                    "1": "Invoices",
                                    "2": "2016-06-02 10:04:03.540",
                                    "3": "2016-06-02 10:04:03.643"
                                },
                                {
                                    "0": "Sales",
                                    "1": "OrderLines",
                                    "2": "2016-06-02 10:04:03.573",
                                    "3": "2016-06-06 11:06:37.913"
                                },
                                {
                                    "0": "Sales",
                                    "1": "Orders",
                                    "2": "2016-06-02 10:04:03.433",
                                    "3": "2016-06-02 10:04:03.573"
                                },
                                {
                                    "0": "Sales",
                                    "1": "SpecialDeals",
                                    "2": "2016-06-02 10:04:03.513",
                                    "3": "2016-06-02 10:04:03.540"
                                }
                            ]
                        },
                        "text/html": "<table><tr><th>schema_name</th><th>table_name</th><th>date_created</th><th>date_modified</th></tr><tr><td>Sales</td><td>BuyingGroups</td><td>2016-06-02 10:04:03.263</td><td>2016-06-02 10:50:09.773</td></tr><tr><td>Sales</td><td>BuyingGroups_Archive</td><td>2016-06-02 10:04:03.267</td><td>2016-06-06 11:06:36.787</td></tr><tr><td>Sales</td><td>CustomerCategories</td><td>2016-06-02 10:04:03.270</td><td>2016-06-02 10:50:09.777</td></tr><tr><td>Sales</td><td>CustomerCategories_Archive</td><td>2016-06-02 10:04:03.273</td><td>2016-06-06 11:06:36.790</td></tr><tr><td>Sales</td><td>Customers</td><td>2016-06-02 10:04:03.387</td><td>2016-06-02 10:50:16.953</td></tr><tr><td>Sales</td><td>Customers_Archive</td><td>2016-06-02 10:04:03.390</td><td>2016-06-06 11:06:34.773</td></tr><tr><td>Sales</td><td>CustomerTransactions</td><td>2016-06-02 10:04:03.607</td><td>2016-06-06 11:07:00.153</td></tr><tr><td>Sales</td><td>InvoiceLines</td><td>2016-06-02 10:04:03.627</td><td>2016-06-06 11:06:39.317</td></tr><tr><td>Sales</td><td>Invoices</td><td>2016-06-02 10:04:03.540</td><td>2016-06-02 10:04:03.643</td></tr><tr><td>Sales</td><td>OrderLines</td><td>2016-06-02 10:04:03.573</td><td>2016-06-06 11:06:37.913</td></tr><tr><td>Sales</td><td>Orders</td><td>2016-06-02 10:04:03.433</td><td>2016-06-02 10:04:03.573</td></tr><tr><td>Sales</td><td>SpecialDeals</td><td>2016-06-02 10:04:03.513</td><td>2016-06-02 10:04:03.540</td></tr></table>"
                    },
                    "metadata": {}
                }
            ],
            "execution_count": 4
        },
        {
            "cell_type": "markdown",
            "source": [
                "# Sample\r\n",
                "\r\n",
                "This query will bring back the top 1000 vehical temperatures.\r\n",
                ""
            ],
            "metadata": {
                "azdata_cell_guid": "286b0a67-7df5-42b9-adc3-87883cd914b7"
            }
        },
        {
            "cell_type": "code",
            "source": [
                "SELECT TOP (10) [VehicleTemperatureID]\r\n",
                "      ,[VehicleRegistration]\r\n",
                "      ,[ChillerSensorNumber]\r\n",
                "      ,[RecordedWhen]\r\n",
                "      ,[Temperature]\r\n",
                "      ,[FullSensorData]\r\n",
                "  FROM [WideWorldImporters].[Website].[VehicleTemperatures]"
            ],
            "metadata": {
                "azdata_cell_guid": "42bd6c27-502f-4d4c-ac52-7f04ce0bfac7"
            },
            "outputs": [
                {
                    "output_type": "display_data",
                    "data": {
                        "text/html": "(10 rows affected)"
                    },
                    "metadata": {}
                },
                {
                    "output_type": "display_data",
                    "data": {
                        "text/html": "Total execution time: 00:00:00.025"
                    },
                    "metadata": {}
                },
                {
                    "output_type": "execute_result",
                    "metadata": {},
                    "execution_count": 2,
                    "data": {
                        "application/vnd.dataresource+json": {
                            "schema": {
                                "fields": [
                                    {
                                        "name": "VehicleTemperatureID"
                                    },
                                    {
                                        "name": "VehicleRegistration"
                                    },
                                    {
                                        "name": "ChillerSensorNumber"
                                    },
                                    {
                                        "name": "RecordedWhen"
                                    },
                                    {
                                        "name": "Temperature"
                                    },
                                    {
                                        "name": "FullSensorData"
                                    }
                                ]
                            },
                            "data": [
                                {
                                    "0": "65628",
                                    "1": "WWI-321-A",
                                    "2": "2",
                                    "3": "2016-05-31 08:00:31.0000000",
                                    "4": "4.31",
                                    "5": "{\"Recordings\": [{\"type\":\"Feature\", \"geometry\": {\"type\":\"Point\", \"coordinates\":[-112.8082476,55.1123001] }, \"properties\":{\"rego\":\"WWI-321-A\",\"sensor\":\"2,\"when\":\"2016-05-31T08:00:31\",\"temp\":4.31}} ]"
                                },
                                {
                                    "0": "65629",
                                    "1": "WWI-321-A",
                                    "2": "1",
                                    "3": "2016-05-31 08:04:16.0000000",
                                    "4": "3.43",
                                    "5": "{\"Recordings\": [{\"type\":\"Feature\", \"geometry\": {\"type\":\"Point\", \"coordinates\":[-108.1227246,53.5700014] }, \"properties\":{\"rego\":\"WWI-321-A\",\"sensor\":\"1,\"when\":\"2016-05-31T08:04:16\",\"temp\":3.43}} ]"
                                },
                                {
                                    "0": "65631",
                                    "1": "WWI-321-A",
                                    "2": "1",
                                    "3": "2016-05-31 08:05:30.0000000",
                                    "4": "3.21",
                                    "5": "{\"Recordings\": [{\"type\":\"Feature\", \"geometry\": {\"type\":\"Point\", \"coordinates\":[-106.2921730,53.4029755] }, \"properties\":{\"rego\":\"WWI-321-A\",\"sensor\":\"1,\"when\":\"2016-05-31T08:05:30\",\"temp\":3.21}} ]"
                                },
                                {
                                    "0": "65634",
                                    "1": "WWI-321-A",
                                    "2": "2",
                                    "3": "2016-05-31 08:07:43.0000000",
                                    "4": "3.27",
                                    "5": "{\"Recordings\": [{\"type\":\"Feature\", \"geometry\": {\"type\":\"Point\", \"coordinates\":[-115.1834628,55.7476727] }, \"properties\":{\"rego\":\"WWI-321-A\",\"sensor\":\"2,\"when\":\"2016-05-31T08:07:43\",\"temp\":3.27}} ]"
                                },
                                {
                                    "0": "65635",
                                    "1": "WWI-321-A",
                                    "2": "1",
                                    "3": "2016-05-31 08:10:58.0000000",
                                    "4": "3.24",
                                    "5": "{\"Recordings\": [{\"type\":\"Feature\", \"geometry\": {\"type\":\"Point\", \"coordinates\":[-120.7917648,59.6546474] }, \"properties\":{\"rego\":\"WWI-321-A\",\"sensor\":\"1,\"when\":\"2016-05-31T08:10:58\",\"temp\":3.24}} ]"
                                },
                                {
                                    "0": "65636",
                                    "1": "WWI-321-A",
                                    "2": "2",
                                    "3": "2016-05-31 08:10:58.0000000",
                                    "4": "4.28",
                                    "5": "{\"Recordings\": [{\"type\":\"Feature\", \"geometry\": {\"type\":\"Point\", \"coordinates\":[-110.0393620,56.8303882] }, \"properties\":{\"rego\":\"WWI-321-A\",\"sensor\":\"2,\"when\":\"2016-05-31T08:10:58\",\"temp\":4.28}} ]"
                                },
                                {
                                    "0": "65638",
                                    "1": "WWI-321-A",
                                    "2": "2",
                                    "3": "2016-05-31 08:15:55.0000000",
                                    "4": "4.09",
                                    "5": "{\"Recordings\": [{\"type\":\"Feature\", \"geometry\": {\"type\":\"Point\", \"coordinates\":[-117.2304787,61.3509872] }, \"properties\":{\"rego\":\"WWI-321-A\",\"sensor\":\"2,\"when\":\"2016-05-31T08:15:55\",\"temp\":4.09}} ]"
                                },
                                {
                                    "0": "65643",
                                    "1": "WWI-321-A",
                                    "2": "1",
                                    "3": "2016-05-31 08:22:33.0000000",
                                    "4": "3.40",
                                    "5": "{\"Recordings\": [{\"type\":\"Feature\", \"geometry\": {\"type\":\"Point\", \"coordinates\":[-115.0714958,52.5138192] }, \"properties\":{\"rego\":\"WWI-321-A\",\"sensor\":\"1,\"when\":\"2016-05-31T08:22:33\",\"temp\":3.40}} ]"
                                },
                                {
                                    "0": "65644",
                                    "1": "WWI-321-A",
                                    "2": "2",
                                    "3": "2016-05-31 08:22:33.0000000",
                                    "4": "4.93",
                                    "5": "{\"Recordings\": [{\"type\":\"Feature\", \"geometry\": {\"type\":\"Point\", \"coordinates\":[-108.1744959,55.5835257] }, \"properties\":{\"rego\":\"WWI-321-A\",\"sensor\":\"2,\"when\":\"2016-05-31T08:22:33\",\"temp\":4.93}} ]"
                                },
                                {
                                    "0": "65646",
                                    "1": "WWI-321-A",
                                    "2": "2",
                                    "3": "2016-05-31 08:27:07.0000000",
                                    "4": "4.95",
                                    "5": "{\"Recordings\": [{\"type\":\"Feature\", \"geometry\": {\"type\":\"Point\", \"coordinates\":[-110.0698412,51.1630465] }, \"properties\":{\"rego\":\"WWI-321-A\",\"sensor\":\"2,\"when\":\"2016-05-31T08:27:07\",\"temp\":4.95}} ]"
                                }
                            ]
                        },
                        "text/html": "<table><tr><th>VehicleTemperatureID</th><th>VehicleRegistration</th><th>ChillerSensorNumber</th><th>RecordedWhen</th><th>Temperature</th><th>FullSensorData</th></tr><tr><td>65628</td><td>WWI-321-A</td><td>2</td><td>2016-05-31 08:00:31.0000000</td><td>4.31</td><td>{&quot;Recordings&quot;: [{&quot;type&quot;:&quot;Feature&quot;, &quot;geometry&quot;: {&quot;type&quot;:&quot;Point&quot;, &quot;coordinates&quot;:[-112.8082476,55.1123001] }, &quot;properties&quot;:{&quot;rego&quot;:&quot;WWI-321-A&quot;,&quot;sensor&quot;:&quot;2,&quot;when&quot;:&quot;2016-05-31T08:00:31&quot;,&quot;temp&quot;:4.31}} ]</td></tr><tr><td>65629</td><td>WWI-321-A</td><td>1</td><td>2016-05-31 08:04:16.0000000</td><td>3.43</td><td>{&quot;Recordings&quot;: [{&quot;type&quot;:&quot;Feature&quot;, &quot;geometry&quot;: {&quot;type&quot;:&quot;Point&quot;, &quot;coordinates&quot;:[-108.1227246,53.5700014] }, &quot;properties&quot;:{&quot;rego&quot;:&quot;WWI-321-A&quot;,&quot;sensor&quot;:&quot;1,&quot;when&quot;:&quot;2016-05-31T08:04:16&quot;,&quot;temp&quot;:3.43}} ]</td></tr><tr><td>65631</td><td>WWI-321-A</td><td>1</td><td>2016-05-31 08:05:30.0000000</td><td>3.21</td><td>{&quot;Recordings&quot;: [{&quot;type&quot;:&quot;Feature&quot;, &quot;geometry&quot;: {&quot;type&quot;:&quot;Point&quot;, &quot;coordinates&quot;:[-106.2921730,53.4029755] }, &quot;properties&quot;:{&quot;rego&quot;:&quot;WWI-321-A&quot;,&quot;sensor&quot;:&quot;1,&quot;when&quot;:&quot;2016-05-31T08:05:30&quot;,&quot;temp&quot;:3.21}} ]</td></tr><tr><td>65634</td><td>WWI-321-A</td><td>2</td><td>2016-05-31 08:07:43.0000000</td><td>3.27</td><td>{&quot;Recordings&quot;: [{&quot;type&quot;:&quot;Feature&quot;, &quot;geometry&quot;: {&quot;type&quot;:&quot;Point&quot;, &quot;coordinates&quot;:[-115.1834628,55.7476727] }, &quot;properties&quot;:{&quot;rego&quot;:&quot;WWI-321-A&quot;,&quot;sensor&quot;:&quot;2,&quot;when&quot;:&quot;2016-05-31T08:07:43&quot;,&quot;temp&quot;:3.27}} ]</td></tr><tr><td>65635</td><td>WWI-321-A</td><td>1</td><td>2016-05-31 08:10:58.0000000</td><td>3.24</td><td>{&quot;Recordings&quot;: [{&quot;type&quot;:&quot;Feature&quot;, &quot;geometry&quot;: {&quot;type&quot;:&quot;Point&quot;, &quot;coordinates&quot;:[-120.7917648,59.6546474] }, &quot;properties&quot;:{&quot;rego&quot;:&quot;WWI-321-A&quot;,&quot;sensor&quot;:&quot;1,&quot;when&quot;:&quot;2016-05-31T08:10:58&quot;,&quot;temp&quot;:3.24}} ]</td></tr><tr><td>65636</td><td>WWI-321-A</td><td>2</td><td>2016-05-31 08:10:58.0000000</td><td>4.28</td><td>{&quot;Recordings&quot;: [{&quot;type&quot;:&quot;Feature&quot;, &quot;geometry&quot;: {&quot;type&quot;:&quot;Point&quot;, &quot;coordinates&quot;:[-110.0393620,56.8303882] }, &quot;properties&quot;:{&quot;rego&quot;:&quot;WWI-321-A&quot;,&quot;sensor&quot;:&quot;2,&quot;when&quot;:&quot;2016-05-31T08:10:58&quot;,&quot;temp&quot;:4.28}} ]</td></tr><tr><td>65638</td><td>WWI-321-A</td><td>2</td><td>2016-05-31 08:15:55.0000000</td><td>4.09</td><td>{&quot;Recordings&quot;: [{&quot;type&quot;:&quot;Feature&quot;, &quot;geometry&quot;: {&quot;type&quot;:&quot;Point&quot;, &quot;coordinates&quot;:[-117.2304787,61.3509872] }, &quot;properties&quot;:{&quot;rego&quot;:&quot;WWI-321-A&quot;,&quot;sensor&quot;:&quot;2,&quot;when&quot;:&quot;2016-05-31T08:15:55&quot;,&quot;temp&quot;:4.09}} ]</td></tr><tr><td>65643</td><td>WWI-321-A</td><td>1</td><td>2016-05-31 08:22:33.0000000</td><td>3.40</td><td>{&quot;Recordings&quot;: [{&quot;type&quot;:&quot;Feature&quot;, &quot;geometry&quot;: {&quot;type&quot;:&quot;Point&quot;, &quot;coordinates&quot;:[-115.0714958,52.5138192] }, &quot;properties&quot;:{&quot;rego&quot;:&quot;WWI-321-A&quot;,&quot;sensor&quot;:&quot;1,&quot;when&quot;:&quot;2016-05-31T08:22:33&quot;,&quot;temp&quot;:3.40}} ]</td></tr><tr><td>65644</td><td>WWI-321-A</td><td>2</td><td>2016-05-31 08:22:33.0000000</td><td>4.93</td><td>{&quot;Recordings&quot;: [{&quot;type&quot;:&quot;Feature&quot;, &quot;geometry&quot;: {&quot;type&quot;:&quot;Point&quot;, &quot;coordinates&quot;:[-108.1744959,55.5835257] }, &quot;properties&quot;:{&quot;rego&quot;:&quot;WWI-321-A&quot;,&quot;sensor&quot;:&quot;2,&quot;when&quot;:&quot;2016-05-31T08:22:33&quot;,&quot;temp&quot;:4.93}} ]</td></tr><tr><td>65646</td><td>WWI-321-A</td><td>2</td><td>2016-05-31 08:27:07.0000000</td><td>4.95</td><td>{&quot;Recordings&quot;: [{&quot;type&quot;:&quot;Feature&quot;, &quot;geometry&quot;: {&quot;type&quot;:&quot;Point&quot;, &quot;coordinates&quot;:[-110.0698412,51.1630465] }, &quot;properties&quot;:{&quot;rego&quot;:&quot;WWI-321-A&quot;,&quot;sensor&quot;:&quot;2,&quot;when&quot;:&quot;2016-05-31T08:27:07&quot;,&quot;temp&quot;:4.95}} ]</td></tr></table>"
                    }
                }
            ],
            "execution_count": 2
        }
    ]
}